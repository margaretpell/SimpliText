{
  "cells": [
    {
      "cell_type": "code",
      "execution_count": 1,
      "metadata": {
        "colab": {
          "base_uri": "https://localhost:8080/"
        },
        "id": "oLPOfq3c7Twe",
        "outputId": "451b0d52-79d9-4776-a0bb-62615a1b78a6"
      },
      "outputs": [
        {
          "name": "stdout",
          "output_type": "stream",
          "text": [
            "Requirement already satisfied: openai in /usr/local/lib/python3.10/dist-packages (1.3.0)\n",
            "Requirement already satisfied: anyio<4,>=3.5.0 in /usr/local/lib/python3.10/dist-packages (from openai) (3.7.1)\n",
            "Requirement already satisfied: distro<2,>=1.7.0 in /usr/lib/python3/dist-packages (from openai) (1.7.0)\n",
            "Requirement already satisfied: httpx<1,>=0.23.0 in /usr/local/lib/python3.10/dist-packages (from openai) (0.25.1)\n",
            "Requirement already satisfied: pydantic<3,>=1.9.0 in /usr/local/lib/python3.10/dist-packages (from openai) (1.10.13)\n",
            "Requirement already satisfied: tqdm>4 in /usr/local/lib/python3.10/dist-packages (from openai) (4.66.1)\n",
            "Requirement already satisfied: typing-extensions<5,>=4.5 in /usr/local/lib/python3.10/dist-packages (from openai) (4.5.0)\n",
            "Requirement already satisfied: idna>=2.8 in /usr/local/lib/python3.10/dist-packages (from anyio<4,>=3.5.0->openai) (3.4)\n",
            "Requirement already satisfied: sniffio>=1.1 in /usr/local/lib/python3.10/dist-packages (from anyio<4,>=3.5.0->openai) (1.3.0)\n",
            "Requirement already satisfied: exceptiongroup in /usr/local/lib/python3.10/dist-packages (from anyio<4,>=3.5.0->openai) (1.1.3)\n",
            "Requirement already satisfied: certifi in /usr/local/lib/python3.10/dist-packages (from httpx<1,>=0.23.0->openai) (2023.7.22)\n",
            "Requirement already satisfied: httpcore in /usr/local/lib/python3.10/dist-packages (from httpx<1,>=0.23.0->openai) (1.0.2)\n",
            "Requirement already satisfied: h11<0.15,>=0.13 in /usr/local/lib/python3.10/dist-packages (from httpcore->httpx<1,>=0.23.0->openai) (0.14.0)\n"
          ]
        }
      ],
      "source": [
        "!pip install openai\n",
        "import openai\n",
        "import pandas as pd"
      ]
    },
    {
      "cell_type": "code",
      "execution_count": 2,
      "metadata": {
        "id": "eppOFSqt4AGP"
      },
      "outputs": [],
      "source": [
        "import openai\n",
        "import pandas as pd\n",
        "\n",
        "# Set your API key\n",
        "openai.api_key = ''\n",
        "df = pd.read_csv('data.csv')\n",
        "df = df.reset_index(drop=True)\n",
        "original = df[df.columns[0]].tolist()\n",
        "\n",
        "# Define the functions for each task\n",
        "def simplify(statement):\n",
        "    completion = openai.chat.completions.create(\n",
        "        model=\"gpt-4-1106-preview\",\n",
        "        messages=[\n",
        "            {\n",
        "                \"role\": \"system\",\n",
        "                \"content\": \"You are a helpful assistant.\",\n",
        "            },\n",
        "            {\n",
        "                \"role\": \"user\",\n",
        "                \"content\": f\"Simplify the following sentences: {statement}\",\n",
        "            }\n",
        "        ],\n",
        "        temperature=0.5,\n",
        "        top_p=0.5,\n",
        "    )\n",
        "    return completion.choices[0].message.content\n",
        "\n",
        "def summarize_sentences(statement):\n",
        "    completion = openai.chat.completions.create(\n",
        "        model=\"gpt-4-1106-preview\",\n",
        "        messages=[\n",
        "            {\n",
        "                \"role\": \"system\",\n",
        "                \"content\": \"You are a helpful assistant.\",\n",
        "            },\n",
        "            {\n",
        "                \"role\": \"user\",\n",
        "                \"content\": f\"Summarize the following sentences for English learners: {statement}\",\n",
        "            }\n",
        "        ],\n",
        "        temperature=0.5,\n",
        "        top_p=0.5,\n",
        "    )\n",
        "    return completion.choices[0].message.content\n",
        "\n",
        "def explain_sentences(statement):\n",
        "    completion = openai.chat.completions.create(\n",
        "        model=\"gpt-4-1106-preview\",\n",
        "        messages=[\n",
        "            {\n",
        "                \"role\": \"system\",\n",
        "                \"content\": \"You are a helpful assistant.\",\n",
        "            },\n",
        "            {\n",
        "                \"role\": \"user\",\n",
        "                \"content\": f\"Explain the following sentences to English learner. Only give me your explanation in a paragraph. Do not involve original sentences: {statement}\",\n",
        "            }\n",
        "        ],\n",
        "        temperature=0.5,\n",
        "        top_p=0.5,\n",
        "    )\n",
        "    return completion.choices[0].message.content\n",
        "\n",
        "results = []\n",
        "for statement in original:\n",
        "    simplified = simplify(statement)\n",
        "    summarization = summarize_sentences(statement)\n",
        "    explanation = explain_sentences(statement)\n",
        "    results.append((simplified, summarization, explanation))\n",
        "\n",
        "\n",
        "df_combined = pd.DataFrame({\n",
        "    'OriginalStatements': original,\n",
        "    'SimplifiedStatements': [result[0] for result in results],\n",
        "    'Summarization': [result[1] for result in results],\n",
        "    'Explanations': [result[2] for result in results]\n",
        "})\n",
        "\n",
        "\n",
        "df_combined.to_csv('baseline.csv', index=False)\n"
      ]
    }
  ],
  "metadata": {
    "colab": {
      "provenance": []
    },
    "kernelspec": {
      "display_name": "Python 3",
      "name": "python3"
    },
    "language_info": {
      "name": "python"
    }
  },
  "nbformat": 4,
  "nbformat_minor": 0
}
