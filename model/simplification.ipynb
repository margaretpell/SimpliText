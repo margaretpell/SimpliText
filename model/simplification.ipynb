{
  "cells": [
    {
      "cell_type": "code",
      "execution_count": 1,
      "metadata": {
        "colab": {
          "base_uri": "https://localhost:8080/"
        },
        "id": "RuTxvCzccrNU",
        "outputId": "f7c7b104-ed04-4372-b6f0-95c697c3224a"
      },
      "outputs": [
        {
          "name": "stdout",
          "output_type": "stream",
          "text": [
            "Collecting wordfreq\n",
            "  Downloading wordfreq-3.1.1-py3-none-any.whl (56.8 MB)\n",
            "\u001b[2K     \u001b[90m━━━━━━━━━━━━━━━━━━━━━━━━━━━━━━━━━━━━━━━━\u001b[0m \u001b[32m56.8/56.8 MB\u001b[0m \u001b[31m8.9 MB/s\u001b[0m eta \u001b[36m0:00:00\u001b[0m\n",
            "\u001b[?25hCollecting ftfy>=6.1 (from wordfreq)\n",
            "  Downloading ftfy-6.1.3-py3-none-any.whl (53 kB)\n",
            "\u001b[2K     \u001b[90m━━━━━━━━━━━━━━━━━━━━━━━━━━━━━━━━━━━━━━━━\u001b[0m \u001b[32m53.4/53.4 kB\u001b[0m \u001b[31m5.0 MB/s\u001b[0m eta \u001b[36m0:00:00\u001b[0m\n",
            "\u001b[?25hRequirement already satisfied: langcodes>=3.0 in /usr/local/lib/python3.10/dist-packages (from wordfreq) (3.3.0)\n",
            "Collecting locate<2.0.0,>=1.1.1 (from wordfreq)\n",
            "  Downloading locate-1.1.1-py3-none-any.whl (5.4 kB)\n",
            "Requirement already satisfied: msgpack<2.0.0,>=1.0.7 in /usr/local/lib/python3.10/dist-packages (from wordfreq) (1.0.7)\n",
            "Collecting regex>=2023.10.3 (from wordfreq)\n",
            "  Downloading regex-2023.10.3-cp310-cp310-manylinux_2_17_x86_64.manylinux2014_x86_64.whl (773 kB)\n",
            "\u001b[2K     \u001b[90m━━━━━━━━━━━━━━━━━━━━━━━━━━━━━━━━━━━━━━━━\u001b[0m \u001b[32m773.9/773.9 kB\u001b[0m \u001b[31m31.0 MB/s\u001b[0m eta \u001b[36m0:00:00\u001b[0m\n",
            "\u001b[?25hRequirement already satisfied: wcwidth<0.3.0,>=0.2.12 in /usr/local/lib/python3.10/dist-packages (from ftfy>=6.1->wordfreq) (0.2.12)\n",
            "Installing collected packages: regex, locate, ftfy, wordfreq\n",
            "  Attempting uninstall: regex\n",
            "    Found existing installation: regex 2023.6.3\n",
            "    Uninstalling regex-2023.6.3:\n",
            "      Successfully uninstalled regex-2023.6.3\n",
            "Successfully installed ftfy-6.1.3 locate-1.1.1 regex-2023.10.3 wordfreq-3.1.1\n",
            "Collecting openai\n",
            "  Downloading openai-1.3.7-py3-none-any.whl (221 kB)\n",
            "\u001b[2K     \u001b[90m━━━━━━━━━━━━━━━━━━━━━━━━━━━━━━━━━━━━━━━━\u001b[0m \u001b[32m221.4/221.4 kB\u001b[0m \u001b[31m3.7 MB/s\u001b[0m eta \u001b[36m0:00:00\u001b[0m\n",
            "\u001b[?25hRequirement already satisfied: anyio<4,>=3.5.0 in /usr/local/lib/python3.10/dist-packages (from openai) (3.7.1)\n",
            "Requirement already satisfied: distro<2,>=1.7.0 in /usr/lib/python3/dist-packages (from openai) (1.7.0)\n",
            "Collecting httpx<1,>=0.23.0 (from openai)\n",
            "  Downloading httpx-0.25.2-py3-none-any.whl (74 kB)\n",
            "\u001b[2K     \u001b[90m━━━━━━━━━━━━━━━━━━━━━━━━━━━━━━━━━━━━━━━━\u001b[0m \u001b[32m75.0/75.0 kB\u001b[0m \u001b[31m10.8 MB/s\u001b[0m eta \u001b[36m0:00:00\u001b[0m\n",
            "\u001b[?25hRequirement already satisfied: pydantic<3,>=1.9.0 in /usr/local/lib/python3.10/dist-packages (from openai) (1.10.13)\n",
            "Requirement already satisfied: sniffio in /usr/local/lib/python3.10/dist-packages (from openai) (1.3.0)\n",
            "Requirement already satisfied: tqdm>4 in /usr/local/lib/python3.10/dist-packages (from openai) (4.66.1)\n",
            "Requirement already satisfied: typing-extensions<5,>=4.5 in /usr/local/lib/python3.10/dist-packages (from openai) (4.5.0)\n",
            "Requirement already satisfied: idna>=2.8 in /usr/local/lib/python3.10/dist-packages (from anyio<4,>=3.5.0->openai) (3.6)\n",
            "Requirement already satisfied: exceptiongroup in /usr/local/lib/python3.10/dist-packages (from anyio<4,>=3.5.0->openai) (1.2.0)\n",
            "Requirement already satisfied: certifi in /usr/local/lib/python3.10/dist-packages (from httpx<1,>=0.23.0->openai) (2023.11.17)\n",
            "Collecting httpcore==1.* (from httpx<1,>=0.23.0->openai)\n",
            "  Downloading httpcore-1.0.2-py3-none-any.whl (76 kB)\n",
            "\u001b[2K     \u001b[90m━━━━━━━━━━━━━━━━━━━━━━━━━━━━━━━━━━━━━━━━\u001b[0m \u001b[32m76.9/76.9 kB\u001b[0m \u001b[31m11.3 MB/s\u001b[0m eta \u001b[36m0:00:00\u001b[0m\n",
            "\u001b[?25hCollecting h11<0.15,>=0.13 (from httpcore==1.*->httpx<1,>=0.23.0->openai)\n",
            "  Downloading h11-0.14.0-py3-none-any.whl (58 kB)\n",
            "\u001b[2K     \u001b[90m━━━━━━━━━━━━━━━━━━━━━━━━━━━━━━━━━━━━━━━━\u001b[0m \u001b[32m58.3/58.3 kB\u001b[0m \u001b[31m7.3 MB/s\u001b[0m eta \u001b[36m0:00:00\u001b[0m\n",
            "\u001b[?25hInstalling collected packages: h11, httpcore, httpx, openai\n",
            "\u001b[31mERROR: pip's dependency resolver does not currently take into account all the packages that are installed. This behaviour is the source of the following dependency conflicts.\n",
            "llmx 0.0.15a0 requires cohere, which is not installed.\n",
            "llmx 0.0.15a0 requires tiktoken, which is not installed.\u001b[0m\u001b[31m\n",
            "\u001b[0mSuccessfully installed h11-0.14.0 httpcore-1.0.2 httpx-0.25.2 openai-1.3.7\n"
          ]
        }
      ],
      "source": [
        "!pip install wordfreq\n",
        "from wordfreq import word_frequency\n",
        "import spacy\n",
        "!pip install openai\n",
        "from openai import OpenAI\n",
        "client = OpenAI(api_key='')"
      ]
    },
    {
      "cell_type": "code",
      "execution_count": 2,
      "metadata": {
        "id": "x_GM4CYDcyLu"
      },
      "outputs": [],
      "source": [
        "def check_freq(sentence):\n",
        "\n",
        "  nlp = spacy.load(\"en_core_web_sm\")\n",
        "  words = [tok.lemma_ for tok in nlp(sentence) if tok.pos_ not in [\"PUNCT\", \"SPACE\"]]\n",
        "\n",
        "  freq_dict = {}\n",
        "  for word in words:\n",
        "    freq = word_frequency(word, 'en')\n",
        "    freq_dict[word] = freq\n",
        "\n",
        "  vocab = dict(sorted(freq_dict.items(), key=lambda item: item[1]))\n",
        "  return vocab"
      ]
    },
    {
      "cell_type": "code",
      "execution_count": 3,
      "metadata": {
        "id": "aviYOP42c1ES"
      },
      "outputs": [],
      "source": [
        "def words_exp(sentence):\n",
        "\n",
        "  freq_dict = check_freq(sentence)\n",
        "\n",
        "  explain = dict((k, v) for k, v in freq_dict.items() if v < 1e-4)\n",
        "\n",
        "  words = list(explain.keys())\n",
        "\n",
        "  return words"
      ]
    },
    {
      "cell_type": "code",
      "execution_count": 4,
      "metadata": {
        "id": "p3GlII45c6la"
      },
      "outputs": [],
      "source": [
        "def simplify_words(sentence):\n",
        "  words = words_exp(sentence)\n",
        "  assis = 'Give me a new verison of sentences which paraphrase these words in super easy-to-understand words:'\n",
        "  for word in words:\n",
        "    assis += word\n",
        "    assis += ', '\n",
        "  assis += 'inside sentences and only give me the new version of explained sentences.'\n",
        "\n",
        "  completion = client.chat.completions.create(\n",
        "      model='gpt-4-1106-preview',\n",
        "      messages=[\n",
        "         {\"role\": \"system\",\n",
        "         \"content\": assis},\n",
        "        {\"role\": \"user\",\n",
        "         \"content\": sentence}\n",
        "      ],\n",
        "      temperature=0.5,\n",
        "      top_p=0.5,\n",
        "  )\n",
        "\n",
        "  return completion.choices[0].message.content"
      ]
    },
    {
      "cell_type": "code",
      "execution_count": 5,
      "metadata": {
        "id": "K8VQ1MaSc_RG"
      },
      "outputs": [],
      "source": [
        "def passive_transform(sentence):\n",
        "\n",
        "  completion = client.chat.completions.create(\n",
        "      model='gpt-4-1106-preview',\n",
        "      messages=[\n",
        "        {\"role\": \"system\",\n",
        "         \"content\": \"Change all passive sentences into active sentences.\"},\n",
        "        {\"role\": \"user\",\n",
        "         \"content\": sentence}\n",
        "      ],\n",
        "      temperature=0.5,\n",
        "      top_p=0.5,\n",
        "  )\n",
        "\n",
        "  return completion.choices[0].message.content"
      ]
    },
    {
      "cell_type": "code",
      "execution_count": 6,
      "metadata": {
        "id": "vJ1f1I0EdCbv"
      },
      "outputs": [],
      "source": [
        "def simplify_structure(sentence):\n",
        "  completion = client.chat.completions.create(\n",
        "      model='gpt-4-1106-preview',\n",
        "      messages=[\n",
        "        {\"role\": \"system\",\n",
        "         \"content\": \"Change all sentences into simple sentences without missing any important details and ensure the sentences are readable and coherent. You can break original sentences down to achieve this. Also do not increase words' complexity.\"},\n",
        "        {\"role\": \"user\",\n",
        "         \"content\": sentence}\n",
        "      ],\n",
        "      temperature=0.5,\n",
        "      top_p=0.5,\n",
        "  )\n",
        "  return completion.choices[0].message.content"
      ]
    },
    {
      "cell_type": "code",
      "execution_count": 7,
      "metadata": {
        "id": "qYUnycnIdE66"
      },
      "outputs": [],
      "source": [
        "def simplify_phrases(sentence):\n",
        "  completion = client.chat.completions.create(\n",
        "      model='gpt-4-1106-preview',\n",
        "      messages=[\n",
        "        {\"role\": \"system\",\n",
        "         \"content\": \"Replace compound adjectives and challenging phrases with super simple synonyms.\"},\n",
        "        {\"role\": \"user\",\n",
        "         \"content\": sentence}\n",
        "      ],\n",
        "      temperature=0.5,\n",
        "      top_p=0.5,\n",
        "  )\n",
        "  return completion.choices[0].message.content"
      ]
    },
    {
      "cell_type": "code",
      "execution_count": 8,
      "metadata": {
        "id": "u45uvxAWdHW-"
      },
      "outputs": [],
      "source": [
        "def output(sentence):\n",
        "    tmp = passive_transform(sentence)\n",
        "    tmp2 = simplify_structure(tmp)\n",
        "    tmp3 = simplify_phrases(tmp2)\n",
        "    tmp4 = simplify_words(tmp3)\n",
        "    tmp5 = simplify_structure(tmp4)\n",
        "    output = simplify_words(tmp5)\n",
        "    return output"
      ]
    },
    {
      "cell_type": "code",
      "execution_count": 9,
      "metadata": {
        "colab": {
          "base_uri": "https://localhost:8080/",
          "height": 67
        },
        "id": "VfVwyPyYdNDa",
        "outputId": "7cf860db-3636-4a53-c7ac-66ed6410d8df"
      },
      "outputs": [
        {
          "data": {
            "application/vnd.google.colaboratory.intrinsic+json": {
              "type": "string"
            },
            "text/plain": [
              "\"Dickens's stories are usually very exciting and full of feelings. They often have a happy ending. People liked this a lot when he was writing. Dickens aimed to make his readers have fun. He wasn't trying to make big changes in books. But later authors like D.H. Lawrence, James Joyce, and Virginia Woolf did change books. George Eliot and Thomas Hardy were not like Dickens. They used gentle jokes. They made their books feel more like real life. They let us see what the characters were thinking and feeling deep down.\""
            ]
          },
          "execution_count": 9,
          "metadata": {},
          "output_type": "execute_result"
        }
      ],
      "source": [
        "output('If Dickens’s prose fiction has “defects”—excesses of melodrama, sentimentality, contrived plots, and manufactured happy endings—these are the defects of his era, which for all his greatness Dickens had not the rebellious spirit to resist; he was at heart a crowd-pleaser, a theatrical entertainer, with no interest in subverting the conventions of the novel as his great successors D.H. Lawrence, James Joyce, and Virginia Woolf would have; nor did he contemplate the subtle and ironic counterminings of human relations in the way of George Eliot and Thomas Hardy, who brought to the English novel an element of nuanced psychological realism not previously explored.')"
      ]
    },
    {
      "cell_type": "code",
      "execution_count": null,
      "metadata": {
        "id": "PyKIc4YGhPh3"
      },
      "outputs": [],
      "source": [
        "import pandas as pd\n",
        "df = pd.read_csv('data.csv')\n",
        "df = df.reset_index(drop=True)\n",
        "original = df[df.columns[0]].tolist()\n",
        "results = []\n",
        "for statement in original:\n",
        "    simplified = output(statement)\n",
        "    results.append(simplified)\n",
        "\n",
        "df_combined = pd.DataFrame({\n",
        "    'OriginalStatements': original,\n",
        "    'SimplifiedStatements': results,\n",
        "})\n",
        "\n",
        "\n",
        "df_combined.to_csv('simplification.csv', index=False)"
      ]
    }
  ],
  "metadata": {
    "colab": {
      "provenance": []
    },
    "kernelspec": {
      "display_name": "Python 3",
      "name": "python3"
    },
    "language_info": {
      "name": "python"
    }
  },
  "nbformat": 4,
  "nbformat_minor": 0
}
