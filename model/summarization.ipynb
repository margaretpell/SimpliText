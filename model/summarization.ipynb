{
  "cells": [
    {
      "cell_type": "code",
      "execution_count": null,
      "metadata": {
        "colab": {
          "base_uri": "https://localhost:8080/"
        },
        "id": "e1ENe1_X8Weo",
        "outputId": "ca0a952d-db33-45c7-af6b-a8c8f2c1fb2c"
      },
      "outputs": [
        {
          "name": "stdout",
          "output_type": "stream",
          "text": [
            "Requirement already satisfied: openai in /usr/local/lib/python3.10/dist-packages (1.3.7)\n",
            "Requirement already satisfied: anyio<4,>=3.5.0 in /usr/local/lib/python3.10/dist-packages (from openai) (3.7.1)\n",
            "Requirement already satisfied: distro<2,>=1.7.0 in /usr/lib/python3/dist-packages (from openai) (1.7.0)\n",
            "Requirement already satisfied: httpx<1,>=0.23.0 in /usr/local/lib/python3.10/dist-packages (from openai) (0.25.2)\n",
            "Requirement already satisfied: pydantic<3,>=1.9.0 in /usr/local/lib/python3.10/dist-packages (from openai) (1.10.13)\n",
            "Requirement already satisfied: sniffio in /usr/local/lib/python3.10/dist-packages (from openai) (1.3.0)\n",
            "Requirement already satisfied: tqdm>4 in /usr/local/lib/python3.10/dist-packages (from openai) (4.66.1)\n",
            "Requirement already satisfied: typing-extensions<5,>=4.5 in /usr/local/lib/python3.10/dist-packages (from openai) (4.5.0)\n",
            "Requirement already satisfied: idna>=2.8 in /usr/local/lib/python3.10/dist-packages (from anyio<4,>=3.5.0->openai) (3.6)\n",
            "Requirement already satisfied: exceptiongroup in /usr/local/lib/python3.10/dist-packages (from anyio<4,>=3.5.0->openai) (1.2.0)\n",
            "Requirement already satisfied: certifi in /usr/local/lib/python3.10/dist-packages (from httpx<1,>=0.23.0->openai) (2023.11.17)\n",
            "Requirement already satisfied: httpcore==1.* in /usr/local/lib/python3.10/dist-packages (from httpx<1,>=0.23.0->openai) (1.0.2)\n",
            "Requirement already satisfied: h11<0.15,>=0.13 in /usr/local/lib/python3.10/dist-packages (from httpcore==1.*->httpx<1,>=0.23.0->openai) (0.14.0)\n"
          ]
        }
      ],
      "source": [
        "!pip install openai"
      ]
    },
    {
      "cell_type": "code",
      "execution_count": null,
      "metadata": {
        "id": "VJGklOMm8eg-"
      },
      "outputs": [],
      "source": [
        "from openai import OpenAI\n",
        "\n",
        "client = OpenAI(api_key='')"
      ]
    },
    {
      "cell_type": "code",
      "execution_count": null,
      "metadata": {
        "id": "PpHN7Iwr8fxN"
      },
      "outputs": [],
      "source": [
        "def topic(sentence):\n",
        "  completion = client.chat.completions.create(\n",
        "      model='gpt-4-1106-preview',\n",
        "      messages=[\n",
        "        {\"role\": \"system\",\n",
        "         \"content\": \"Identify the main idea of the following sentences. Only give me the sentences of the main idea.\"},\n",
        "        {\"role\": \"user\",\n",
        "         \"content\": sentence}\n",
        "      ],\n",
        "      temperature=0.5,\n",
        "      top_p=0.5\n",
        "  )\n",
        "\n",
        "  return completion.choices[0].message.content"
      ]
    },
    {
      "cell_type": "code",
      "execution_count": null,
      "metadata": {
        "id": "WaM174fh85ri"
      },
      "outputs": [],
      "source": [
        "def removal(sentence):\n",
        "  completion = client.chat.completions.create(\n",
        "      model='gpt-4-1106-preview',\n",
        "      messages=[\n",
        "        {\"role\": \"system\",\n",
        "         \"content\": \"Remove any information that is repetitive or not crucial to understanding the main idea and the supporting points.\"},\n",
        "        {\"role\": \"user\",\n",
        "         \"content\": sentence}\n",
        "      ],\n",
        "      temperature=0.5,\n",
        "      top_p=0.5\n",
        "  )\n",
        "\n",
        "  return completion.choices[0].message.content"
      ]
    },
    {
      "cell_type": "code",
      "execution_count": null,
      "metadata": {
        "id": "Ug6qaF419WYF"
      },
      "outputs": [],
      "source": [
        "def remove_details(sentence):\n",
        "  completion = client.chat.completions.create(\n",
        "      model='gpt-4-1106-preview',\n",
        "      messages=[\n",
        "        {\"role\": \"system\",\n",
        "         \"content\": \"Remove all details such as reasons, facts, examples, or explanations.\"},\n",
        "        {\"role\": \"user\",\n",
        "         \"content\": sentence}\n",
        "      ],\n",
        "      temperature=0.5,\n",
        "      top_p=0.5\n",
        "  )\n",
        "\n",
        "  return completion.choices[0].message.content"
      ]
    },
    {
      "cell_type": "code",
      "execution_count": null,
      "metadata": {
        "id": "5XFdjL2aCLPY"
      },
      "outputs": [],
      "source": [
        "def simple_sent(sentence):\n",
        "  completion = client.chat.completions.create(\n",
        "      model='gpt-4-1106-preview',\n",
        "      messages=[\n",
        "        {\"role\": \"system\",\n",
        "         \"content\": \"Make this sentence simpler without changing sentence meaning.\"},\n",
        "        {\"role\": \"user\",\n",
        "         \"content\": sentence}\n",
        "      ],\n",
        "      temperature=0.5,\n",
        "      top_p=0.5\n",
        "  )\n",
        "\n",
        "  return completion.choices[0].message.content"
      ]
    },
    {
      "cell_type": "code",
      "execution_count": null,
      "metadata": {
        "id": "KSGa-K2yzf_N"
      },
      "outputs": [],
      "source": [
        "def simplify(statement):\n",
        "    completion = client.chat.completions.create(\n",
        "        model=\"gpt-4-1106-preview\",\n",
        "        messages=[\n",
        "            {\n",
        "                \"role\": \"system\",\n",
        "                \"content\": \"You are a helpful assistant.\",\n",
        "            },\n",
        "            {\n",
        "                \"role\": \"user\",\n",
        "                \"content\": f\"Simplify the following sentences: {statement}\",\n",
        "            }\n",
        "        ],\n",
        "        temperature=0.5,\n",
        "        top_p=0.5,\n",
        "    )\n",
        "    return completion.choices[0].message.content\n",
        "\n",
        "def check_freq(sentence):\n",
        "\n",
        "  nlp = spacy.load(\"en_core_web_sm\")\n",
        "  words = [tok.lemma_ for tok in nlp(sentence) if tok.pos_ not in [\"PUNCT\", \"SPACE\"]]\n",
        "\n",
        "  freq_dict = {}\n",
        "  for word in words:\n",
        "    freq = word_frequency(word, 'en')\n",
        "    freq_dict[word] = freq\n",
        "\n",
        "  vocab = dict(sorted(freq_dict.items(), key=lambda item: item[1]))\n",
        "  return vocab\n",
        "\n",
        "def words_exp(sentence):\n",
        "\n",
        "  freq_dict = check_freq(sentence)\n",
        "\n",
        "  explain = dict((k, v) for k, v in freq_dict.items() if v < 1e-4)\n",
        "\n",
        "  words = list(explain.keys())\n",
        "\n",
        "  return words\n",
        "\n",
        "def simplify_words(sentence):\n",
        "  words = words_exp(sentence)\n",
        "  assis = 'Give me a new verison of sentences which replace these words in simpler synonyms or explanations:'\n",
        "  for word in words:\n",
        "    assis += word\n",
        "    assis += ', '\n",
        "  assis += 'inside sentences and only give me the new version of explained sentences. Please combine with orginal sentence meanings and keep the original meanings.'\n",
        "\n",
        "  completion = client.chat.completions.create(\n",
        "      model='gpt-4-1106-preview',\n",
        "      messages=[\n",
        "         {\"role\": \"system\",\n",
        "         \"content\": assis},\n",
        "        {\"role\": \"user\",\n",
        "         \"content\": sentence}\n",
        "      ],\n",
        "      temperature=0.5,\n",
        "      top_p=0.5,\n",
        "  )\n",
        "\n",
        "  return completion.choices[0].message.content\n",
        "\n",
        "def simplify_structure(sentence):\n",
        "  completion = client.chat.completions.create(\n",
        "      model='gpt-4-1106-preview',\n",
        "      messages=[\n",
        "        {\"role\": \"system\",\n",
        "         \"content\": \"Simpler sentences' structure, do not give me several points but a coherent paragraph, and not changing original sentences' meanings.\"},\n",
        "        {\"role\": \"user\",\n",
        "         \"content\": sentence}\n",
        "      ],\n",
        "      temperature=0.5,\n",
        "      top_p=0.5,\n",
        "  )\n",
        "  return completion.choices[0].message.content\n",
        "\n",
        "def output(sentence):\n",
        "    tmp = simplify(sentence)\n",
        "    tmp = simplify_structure(tmp)\n",
        "    tmp = simplify_words(tmp)\n",
        "    tmp = simplify_structure(tmp)\n",
        "    tmp = simplify_words(tmp)\n",
        "    return tmp"
      ]
    },
    {
      "cell_type": "code",
      "execution_count": null,
      "metadata": {
        "id": "_UK1RC8OC7t6"
      },
      "outputs": [],
      "source": [
        "def summary(sentence):\n",
        "  tmp = topic(sentence)\n",
        "  tmp2 = output(tmp)\n",
        "  tmp3 = removal(tmp2)\n",
        "  tmp4 = remove_details(tmp3)\n",
        "  res = simple_sent(tmp4)\n",
        "  return res"
      ]
    },
    {
      "cell_type": "code",
      "execution_count": null,
      "metadata": {
        "colab": {
          "base_uri": "https://localhost:8080/",
          "height": 34
        },
        "id": "MqMuDpk090JC",
        "outputId": "b7dec78a-2411-4904-ece0-c0140bb89707"
      },
      "outputs": [
        {
          "data": {
            "application/vnd.google.colaboratory.intrinsic+json": {
              "type": "string"
            },
            "text/plain": [
              "\"Removing old software can be hard and might cause problems with other parts. It can be expensive, so people often don't change the system.\""
            ]
          },
          "execution_count": 10,
          "metadata": {},
          "output_type": "execute_result"
        }
      ],
      "source": [
        "summary(\"Managing down operating costs within such a complex technology environment is extremely difficult. Retiring applications that are tightly coupled within the technical and data architecture results in nearly insurmountable dependency management issues and change risk. Seemingly small projects quickly become big, expensive efforts with extended timeframes. Retiring one application inevitably requires upstream and downstream changes and this added cost erodes the business case and often leads to a decision to leave things as they are.\")"
      ]
    },
    {
      "cell_type": "code",
      "execution_count": null,
      "metadata": {
        "colab": {
          "base_uri": "https://localhost:8080/",
          "height": 34
        },
        "id": "beTdoV2iDcHA",
        "outputId": "fc786646-b41e-433e-8697-53a0fa1f597f"
      },
      "outputs": [
        {
          "data": {
            "application/vnd.google.colaboratory.intrinsic+json": {
              "type": "string"
            },
            "text/plain": [
              "'Machines often stop working because of outside issues. Keeping them up can make them work better and more dependably.'"
            ]
          },
          "execution_count": 11,
          "metadata": {},
          "output_type": "execute_result"
        }
      ],
      "source": [
        "summary(\"A constant failure rate (CFR) is indicative of externally induced failures, as in the constant hazard rate situation for non-repairable items. A CFR is also typical of complex systems subject to repair and overhaul, where different parts exhibit different patterns of failure with time and parts have different ages since repair or replacement. Repairable systems can show a decreasing failure rate (DFR) when reliability is improved by progressive repair, as defective parts which fail relatively early are replaced by good parts. ‘Burn in’ is applied to electronic systems, as well as to parts, for this purpose.\")"
      ]
    },
    {
      "cell_type": "code",
      "execution_count": null,
      "metadata": {
        "colab": {
          "base_uri": "https://localhost:8080/",
          "height": 34
        },
        "id": "b-KYC32zDhoR",
        "outputId": "4df702ad-7f6a-4898-eae2-4a56bf1c51e9"
      },
      "outputs": [
        {
          "data": {
            "application/vnd.google.colaboratory.intrinsic+json": {
              "type": "string"
            },
            "text/plain": [
              "'Traditional economic theory says people make smart choices to get the most benefits.'"
            ]
          },
          "execution_count": 12,
          "metadata": {},
          "output_type": "execute_result"
        }
      ],
      "source": [
        "summary(\"Neoclassical economics is built on the assumption that humans are rational beings who have a clear idea of their best interests and strive to extract maximum benefit (or 'utility', in economist-speak) from any situation.\")"
      ]
    },
    {
      "cell_type": "code",
      "execution_count": null,
      "metadata": {
        "id": "hRzLtBC1HaYW"
      },
      "outputs": [],
      "source": [
        "import pandas as pd\n",
        "df = pd.read_csv('data.csv')\n",
        "df = df.reset_index(drop=True)\n",
        "original = df[df.columns[0]].tolist()\n",
        "results = []\n",
        "for statement in original:\n",
        "    summarized = summary(statement)\n",
        "    results.append(summarized)\n",
        "\n",
        "df_combined = pd.DataFrame({\n",
        "    'OriginalStatements': original,\n",
        "    'SummarizationStatements': results,\n",
        "})\n",
        "\n",
        "\n",
        "df_combined.to_csv('summarization.csv', index=False)"
      ]
    }
  ],
  "metadata": {
    "colab": {
      "provenance": []
    },
    "kernelspec": {
      "display_name": "Python 3",
      "name": "python3"
    },
    "language_info": {
      "name": "python"
    }
  },
  "nbformat": 4,
  "nbformat_minor": 0
}
